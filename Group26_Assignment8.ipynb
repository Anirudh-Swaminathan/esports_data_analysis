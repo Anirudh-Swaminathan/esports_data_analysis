{
 "cells": [
  {
   "cell_type": "markdown",
   "metadata": {},
   "source": [
    "# Water Traps\n",
    "You are given an array of non-negative integers that represents a two-dimensional elevation map where each element is unit-width wall and the integer value is the height. Suppose rain fills all available gaps between two bordering walls.\n",
    "\n",
    "Compute how many units of water remain trapped between the walls in the map.\n",
    "\n",
    "For example, given the input `[2, 1, 2]`, we can hold 1 unit of water in the middle. Here's another example for the sequence `[3, 0, 1, 0, 3, 0, 5]` where the answer is `8`.\n",
    "\n",
    "Here is the function signature `get_trapped_water(seq)` where `seq` is an input list, as in the examples."
   ]
  },
  {
   "cell_type": "markdown",
   "metadata": {},
   "source": [
    "**Validation Tests** <br>\n",
    "Check for corner cases and constraints in the inputs enlist all cases used for testing"
   ]
  },
  {
   "cell_type": "code",
   "execution_count": null,
   "metadata": {},
   "outputs": [],
   "source": [
    "assert isinstance(seq, list), \"input sequence must be a list\"\n",
    "assert all(isinstance(e, int) and e >= 0 for e in seq), \"all elements of input must be non-negative integers\""
   ]
  },
  {
   "cell_type": "markdown",
   "metadata": {},
   "source": [
    "**Example Failing Validation inputs** <br>"
   ]
  },
  {
   "cell_type": "markdown",
   "metadata": {},
   "source": [
    "1. seq = `(3, 1, 5, 2, 4)` : fails because input is tuple, instead of list\n",
    "2. seq = `[-3, 1, 4]` : fails because one input is negative integer\n",
    "3. seq = `[4.5, 8, 2]`: fails because one input is not integer"
   ]
  },
  {
   "cell_type": "markdown",
   "metadata": {},
   "source": [
    "**Functional Tests** <br>\n",
    "Check function output matches expected result enlist all cases used for testing"
   ]
  },
  {
   "cell_type": "markdown",
   "metadata": {},
   "source": [
    "These are a few possible functional tests that can be used"
   ]
  },
  {
   "cell_type": "code",
   "execution_count": null,
   "metadata": {},
   "outputs": [],
   "source": [
    "seq = [7, 6, 12, 10, 3, 5, 8, 11, 9, 7, 8, 10, 9, 1, 8, 3, 5, 9]\n",
    "assert 44 == get_trapped_water(seq), \"checking for input sequence with taller walls on both sides\""
   ]
  },
  {
   "cell_type": "code",
   "execution_count": null,
   "metadata": {},
   "outputs": [],
   "source": [
    "seq = [24, 27, 17, 10, 3, 5, 8, 24, 18]\n",
    "assert 77 == get_trapped_water(seq), \"checking for input sequence with lower walls on both sides\""
   ]
  },
  {
   "cell_type": "code",
   "execution_count": null,
   "metadata": {},
   "outputs": [],
   "source": [
    "seq = [3, 1, 1, 3, 2]\n",
    "assert 4 == get_trapped_water(seq), \"checking for input sequence with lower walls on right side\""
   ]
  },
  {
   "cell_type": "code",
   "execution_count": null,
   "metadata": {},
   "outputs": [],
   "source": [
    "seq = [7, 12, 5, 10, 3, 5, 8, 12]\n",
    "assert 29 == get_trapped_water(seq), \"checking for input sequence with lower walls on left side\""
   ]
  },
  {
   "cell_type": "markdown",
   "metadata": {},
   "source": [
    "These are edge cases we can test for"
   ]
  },
  {
   "cell_type": "code",
   "execution_count": null,
   "metadata": {},
   "outputs": [],
   "source": [
    "seq = [3]\n",
    "assert 0 == get_trapped_water(seq), \"checking edge case of only one input\""
   ]
  },
  {
   "cell_type": "code",
   "execution_count": null,
   "metadata": {},
   "outputs": [],
   "source": [
    "seq = [3, 5]\n",
    "assert 0 == get_trapped_water(seq), \"checking edge case of only two inputs\""
   ]
  },
  {
   "cell_type": "markdown",
   "metadata": {},
   "source": [
    "# Polynomial Class\n",
    "Create a Python class that can implement a univariate polynomial (`Polynomial`) over the field of integers (only!) with the following operations and interfaces.\n",
    "\n",
    " - `p = Polynomial({0:8, 1:2, 3:4})` keys are powers, values are coefficients => constructor with dictionary of int-int pairs, keys are non-negative integers and coefficients are also integers\n",
    " - `q = Polynomial({0:8, 1:2, 2:8, 4:4})`\n",
    " - `repr(p) = 8 + 2 x + 4 x^(3)` repr for the class implemented to output string when printed\n",
    " - `p*3 =  24 + 6 x + 12 x^(3)`  integer multiplication\n",
    " - `3*p =  24 + 6 x + 12 x^(3)` multiplication is commutative!\n",
    " - `p+q = 16 + 4 x + 8 x^(2) + 4 x^(3) + 4 x^(4)` add two polynomials\n",
    " - `p*4 + 5 - 3*p - 1 = 12 + 2 x + 4 x^(3)` compose operations and add, subtract with constant\n",
    " - `type(p-p)` should be Polynomial, as zero requires special handling but is still a Polynomial\n",
    " - `p*q = 64 + 32 x + 68 x^(2) + 48 x^(3) + 40 x^(4) + 40 x^(5) + 16 x^(7)`  polynomial by polynomial multiplication works as usual\n",
    " \n",
    " - `p.subs(10) = 4028` substitute in integers and evaluate\n",
    " - `(p-p) == 0`should evaluate to True\n",
    " - `p == q` should evaluate to False\n",
    " - `p = Polynomial({2:1,0:-1})`, `q = Polynomial({1:1,0:-1})`\n",
    " - `p/q = 1 + x`\n",
    " - `p  / Polynomial({1:1,0:-3})` raises `NotImplementedError`"
   ]
  },
  {
   "cell_type": "markdown",
   "metadata": {},
   "source": [
    "**Validation Tests** <br>\n",
    "Check for corner cases and constraints in the inputs enlist all cases used for testing"
   ]
  },
  {
   "cell_type": "code",
   "execution_count": null,
   "metadata": {},
   "outputs": [],
   "source": [
    "# asserts for the constructor of the class that accepts the dictionary of coeffficients\n",
    "assert isinstance(coeffs, dict), \"input coefficients must be a dictionary\"\n",
    "for k in coeffs:\n",
    "    assert isinstance(k, int) and k >= 0, \"key must be non-negative and integer\"\n",
    "    assert isinstance(coeffs[k], int), \"all coefficients must be in the field of integers\""
   ]
  },
  {
   "cell_type": "code",
   "execution_count": null,
   "metadata": {},
   "outputs": [],
   "source": [
    "# assert statement for __add__, __sub__, __mul__, __truediv__, __eq__\n",
    "# these are all binary operations performed on two objects, self and other\n",
    "assert isinstance(other, Polynomial) or isinstance(other, int), \"binary operations performed only on Polynomial object or other integers\""
   ]
  },
  {
   "cell_type": "code",
   "execution_count": null,
   "metadata": {},
   "outputs": [],
   "source": [
    "# assert statement for __radd__, __rsub__, __rmul__\n",
    "# right-operations mean that the other object is not a Polynomial class on the left.\n",
    "# Field of integers means that the other must be an integer\n",
    "assert isinstance(other, int), \"other must be integer\""
   ]
  },
  {
   "cell_type": "code",
   "execution_count": null,
   "metadata": {},
   "outputs": [],
   "source": [
    "# assert statement for subs(a)\n",
    "# in the case of subs method, the substitution variable must be an integer\n",
    "assert isinstance(a, int), \"substitute only integers for the polynomial evaluation\""
   ]
  },
  {
   "cell_type": "markdown",
   "metadata": {},
   "source": [
    "**Example Failing Validation inputs** <br>"
   ]
  },
  {
   "cell_type": "markdown",
   "metadata": {},
   "source": [
    "1. coeffs = `(3, 1, 5, 2, 4)` : fails because input is tuple, instead of dictionary\n",
    "2. coeffs = `{-3:4, 0:1, 2:1}` : fails because one key(power) is negative\n",
    "3. coeffs = `{0:1, 1:2, 1.5:1, 2:1}`: fails because one key(power) is float, and not integer\n",
    "4. coeffs = `{0:1, 1:2, 2:0.45}` : fails because one value(coefficient) is float, and not integer"
   ]
  },
  {
   "cell_type": "markdown",
   "metadata": {},
   "source": [
    "Example failing validation inputs for binary operations: `__add__`, `__sub__`, `__mul__`, `__truediv__` and `__eq__`"
   ]
  },
  {
   "cell_type": "markdown",
   "metadata": {},
   "source": [
    "`p = Polynomial({0:1, 1:2, 2:1})`\n",
    "1. `p + 3.5` fails `__add__` assert statement regarding integer\n",
    "2. `p - 3.5` fails `__sub__` assert statement regarding integer\n",
    "3. `p * 3.5` fails `__mul__` assert statement regarding integer\n",
    "4. `p / 3.5` fails `__truediv__` assert statement regarding integer\n",
    "5. `p == 3.5` fails`__eq__` assert statement regarding integer"
   ]
  },
  {
   "cell_type": "markdown",
   "metadata": {},
   "source": [
    "Example failing validation inputs for operations: `__radd__`, `__rsub__`, `__rmul__` and `subs(a)`"
   ]
  },
  {
   "cell_type": "markdown",
   "metadata": {},
   "source": [
    "`p = Polynomial({0:1, 1:2, 2:1})`\n",
    "1. `3.5 + p` fails `__radd__` assert statement regarding integer\n",
    "2. `3.5 - p` fails `__rsub__` assert statement regarding integer\n",
    "3. `3.5 * p` fails `__rmul__` assert statement regarding integer\n",
    "4. `p.subs(3.5)` fails `subs` assert statement regarding integer"
   ]
  },
  {
   "cell_type": "markdown",
   "metadata": {},
   "source": [
    "**Functional Tests** <br>\n",
    "Check function output matches expected result enlist all cases used for testing"
   ]
  },
  {
   "cell_type": "code",
   "execution_count": null,
   "metadata": {},
   "outputs": [],
   "source": [
    "# constructor\n",
    "p = Polynomial({0:1, 1:2, 2:1})\n",
    "q = Polynomial({0:1, 1:1, 3:1})\n",
    "assert '1 + 2 x + x^(2)' == repr(p), \"coefficient 1 should not be displayed\"\n",
    "assert '1 + x + x^(3)' == repr(q), \"coefficient of 0 should not be displayed\"\n",
    "r = Polynomial({1:1, 2:3, 3:1})\n",
    "assert 'x + 3 x^(2) + x^(3)' == repr(r), \"lowest term is 0 means the printing starts from the next term without leading + \"\n",
    "s = Polynomial({0:8})\n",
    "assert '8' == repr(s), \"constant polynomial\"\n",
    "t = Polynomial({0:0})\n",
    "assert '0' == repr(t), \"0 polynomial is displayed as 0\"\n",
    "u = Polynomial({1:1,  2:1, 3:-1})\n",
    "assert 'x + x^(2) - x^(3)', \"-1 is displayed only as a minus, not plus\""
   ]
  },
  {
   "cell_type": "code",
   "execution_count": null,
   "metadata": {},
   "outputs": [],
   "source": [
    "assert '2 + 3 x + x^(2) + x^(3)' == p + q, \"testing polynomial addition\"\n",
    "assert 'x + x^(2) - x^(3)' == p - q, \"testing polynomial subtraction\"\n",
    "assert '1 + 3 x + 3 x^(2) + 2 x^(3) + 2 x^(4) + x^(5)' == p * q, \"testing polynomial multiplication\"\n",
    "assert '1 + x' == Polynomial({0:1, 1:2, 2:1}) / Polynomial({0:1, 1:1}), \"testing polynomial truediv\"\n",
    "assert '1 + x + x^(2)' == Polynomial({0:2, 1:2, 2:2})/ 2, \"testing polynomial truediv with integer\"\n",
    "p / q # raises NotImplementedError"
   ]
  },
  {
   "cell_type": "code",
   "execution_count": null,
   "metadata": {},
   "outputs": [],
   "source": [
    "assert '4 + 2 x + x^(2)' == 3 + p, \"testing radd\"\n",
    "assert '-2 - 2 x - x^(2)' == 3 - p, \"testing rsub\"\n",
    "assert '3 + 6 x + 3 x^(2)' == 3 * p, \"testing rmul\""
   ]
  },
  {
   "cell_type": "code",
   "execution_count": null,
   "metadata": {},
   "outputs": [],
   "source": [
    "assert False == (p == q), \"not equal\"\n",
    "assert True == (s == 7), \"equality for constant polynomials with integers\"\n",
    "assert True == (t == 0), \"equality for 0 polynomial\""
   ]
  },
  {
   "cell_type": "code",
   "execution_count": null,
   "metadata": {},
   "outputs": [],
   "source": [
    "assert 25 == p.subs(4), \"testing substitution\""
   ]
  },
  {
   "cell_type": "code",
   "execution_count": null,
   "metadata": {},
   "outputs": [],
   "source": []
  },
  {
   "cell_type": "code",
   "execution_count": null,
   "metadata": {},
   "outputs": [],
   "source": []
  },
  {
   "cell_type": "code",
   "execution_count": null,
   "metadata": {},
   "outputs": [],
   "source": []
  }
 ],
 "metadata": {
  "kernelspec": {
   "display_name": "Python 3",
   "language": "python",
   "name": "python3"
  },
  "language_info": {
   "codemirror_mode": {
    "name": "ipython",
    "version": 3
   },
   "file_extension": ".py",
   "mimetype": "text/x-python",
   "name": "python",
   "nbconvert_exporter": "python",
   "pygments_lexer": "ipython3",
   "version": "3.7.3"
  }
 },
 "nbformat": 4,
 "nbformat_minor": 4
}
