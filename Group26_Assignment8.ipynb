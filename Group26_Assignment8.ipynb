{
 "cells": [
  {
   "cell_type": "markdown",
   "metadata": {},
   "source": [
    "# Water Traps\n",
    "You are given an array of non-negative integers that represents a two-dimensional elevation map where each element is unit-width wall and the integer value is the height. Suppose rain fills all available gaps between two bordering walls.\n",
    "\n",
    "Compute how many units of water remain trapped between the walls in the map.\n",
    "\n",
    "For example, given the input `[2, 1, 2]`, we can hold 1 unit of water in the middle. Here's another example for the sequence `[3, 0, 1, 0, 3, 0, 5]` where the answer is `8`.\n",
    "\n",
    "Here is the function signature `get_trapped_water(seq)` where `seq` is an input list, as in the examples."
   ]
  },
  {
   "cell_type": "markdown",
   "metadata": {},
   "source": [
    "**Validation Tests** <br>\n",
    "Check for corner cases and constraints in the inputs enlist all cases used for testing"
   ]
  },
  {
   "cell_type": "code",
   "execution_count": null,
   "metadata": {},
   "outputs": [],
   "source": [
    "assert isinstance(seq, list), \"input sequence must be a list\"\n",
    "assert all(isinstance(e, int) and e >= 0 for e in seq), \"all elements of input must be non-negative integers\""
   ]
  },
  {
   "cell_type": "markdown",
   "metadata": {},
   "source": [
    "**Example Failing Validation inputs** <br>"
   ]
  },
  {
   "cell_type": "markdown",
   "metadata": {},
   "source": [
    "1. seq = `(3, 1, 5, 2, 4)` : fails because input is tuple, instead of list\n",
    "2. seq = `[-3, 1, 4]` : fails because one input is non-negative integer\n",
    "3. seq = `[4.5, 8, 2]`: fails because one input is not integer"
   ]
  },
  {
   "cell_type": "markdown",
   "metadata": {},
   "source": [
    "**Functional Tests** <br>\n",
    "Check function output matches expected result enlist all cases used for testing"
   ]
  },
  {
   "cell_type": "markdown",
   "metadata": {},
   "source": [
    "These are a few possible functional tests that can be used"
   ]
  },
  {
   "cell_type": "code",
   "execution_count": null,
   "metadata": {},
   "outputs": [],
   "source": [
    "seq = [7, 6, 12, 10, 3, 5, 8, 11, 9, 7, 8, 10, 9, 1, 8, 3, 5, 9]\n",
    "assert 44 == get_trapped_water(seq), \"checking for input sequence with taller walls on both sides\""
   ]
  },
  {
   "cell_type": "code",
   "execution_count": null,
   "metadata": {},
   "outputs": [],
   "source": [
    "seq = [24, 27, 17, 10, 3, 5, 8, 24, 18]\n",
    "assert 77 == get_trapped_water(seq), \"checking for input sequence with lower walls on both sides\""
   ]
  },
  {
   "cell_type": "code",
   "execution_count": null,
   "metadata": {},
   "outputs": [],
   "source": [
    "seq = [3, 1, 1, 3, 2]\n",
    "assert 4 == get_trapped_water(seq), \"checking for input sequence with lower walls on right side\""
   ]
  },
  {
   "cell_type": "code",
   "execution_count": null,
   "metadata": {},
   "outputs": [],
   "source": [
    "seq = [7, 12, 5, 10, 3, 5, 8, 12]\n",
    "assert 29 == get_trapped_water(seq), \"checking for input sequence with lower walls on left side\""
   ]
  },
  {
   "cell_type": "markdown",
   "metadata": {},
   "source": [
    "These are edge cases we can test for"
   ]
  },
  {
   "cell_type": "code",
   "execution_count": null,
   "metadata": {},
   "outputs": [],
   "source": [
    "seq = [3]\n",
    "assert 0 == get_trapped_water(seq), \"checking edge case of only one input\""
   ]
  },
  {
   "cell_type": "code",
   "execution_count": null,
   "metadata": {},
   "outputs": [],
   "source": [
    "seq = [3, 5]\n",
    "assert 0 == get_trapped_water(seq), \"checking edge case of only two inputs\""
   ]
  },
  {
   "cell_type": "markdown",
   "metadata": {},
   "source": [
    "# Polynomial Class\n",
    "Create a Python class that can implement a univariate polynomial (`Polynomial`) over the field of integers (only!) with the following operations and interfaces."
   ]
  },
  {
   "cell_type": "code",
   "execution_count": null,
   "metadata": {},
   "outputs": [],
   "source": []
  }
 ],
 "metadata": {
  "kernelspec": {
   "display_name": "Python 3",
   "language": "python",
   "name": "python3"
  },
  "language_info": {
   "codemirror_mode": {
    "name": "ipython",
    "version": 3
   },
   "file_extension": ".py",
   "mimetype": "text/x-python",
   "name": "python",
   "nbconvert_exporter": "python",
   "pygments_lexer": "ipython3",
   "version": "3.7.3"
  }
 },
 "nbformat": 4,
 "nbformat_minor": 4
}
