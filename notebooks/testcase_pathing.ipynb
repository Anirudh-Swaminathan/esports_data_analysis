{
 "cells": [
  {
   "cell_type": "markdown",
   "metadata": {},
   "source": [
    "# Question  [Copy the question here]\n",
    "Grid Path Searching"
   ]
  },
  {
   "cell_type": "markdown",
   "metadata": {},
   "source": [
    "**Validation Tests** <br>\n",
    "Check for corner cases and constraints in the inputs enlist all cases used for testing"
   ]
  },
  {
   "cell_type": "code",
   "execution_count": null,
   "metadata": {},
   "outputs": [],
   "source": [
    "assert(m,int),\"m must be an integer\"\n",
    "assert(n,int),\"n must be an integer\"\n",
    "assert m>0, \"m must be positive\"\n",
    "assert n>0, \"n must be positive\"\n",
    "assert(blocks,list), \"blocks must be a list\"\n",
    "assert(blocks,tuple) for blocks in blocks, \"blocks must be a tuple\"\n",
    "assert block[0]<=(m-1) for blocks in blocks, \"The block is not at (0,0) position\"\n",
    "assert block[1]<=(n-1) for blocks in blocks, \"The block is not at (m,n) position\""
   ]
  },
  {
   "cell_type": "markdown",
   "metadata": {},
   "source": [
    "**Functional Tests** <br>\n",
    "Check function output matches expected result enlist all cases used for testing"
   ]
  },
  {
   "cell_type": "code",
   "execution_count": null,
   "metadata": {},
   "outputs": [],
   "source": [
    "data = (3,4,[(0,3),(1,1)])\n",
    "assert 3 == count_paths(data),\"checking for numbers of paths\""
   ]
  },
  {
   "cell_type": "code",
   "execution_count": null,
   "metadata": {},
   "outputs": [],
   "source": [
    "data = (3,4,[(0,0),(3,4)])\n",
    "assert error == count_paths(data),\"assertion error, blocks are at starting/ending position\""
   ]
  },
  {
   "cell_type": "code",
   "execution_count": null,
   "metadata": {},
   "outputs": [],
   "source": [
    "data = (5,6,[(0,4),(2,3)])\n",
    "assert 61 == count_paths(data),\"checking for numbers of paths\""
   ]
  }
 ],
 "metadata": {
  "kernelspec": {
   "display_name": "Python 3",
   "language": "python",
   "name": "python3"
  },
  "language_info": {
   "codemirror_mode": {
    "name": "ipython",
    "version": 3
   },
   "file_extension": ".py",
   "mimetype": "text/x-python",
   "name": "python",
   "nbconvert_exporter": "python",
   "pygments_lexer": "ipython3",
   "version": "3.7.3"
  }
 },
 "nbformat": 4,
 "nbformat_minor": 4
}
